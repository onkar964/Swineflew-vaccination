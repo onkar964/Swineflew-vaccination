{
 "cells": [
  {
   "cell_type": "code",
   "execution_count": 1,
   "metadata": {},
   "outputs": [],
   "source": [
    "import pandas as pd\n",
    "import numpy as np\n",
    "import matplotlib.pyplot as plt\n",
    "import seaborn as sns"
   ]
  },
  {
   "cell_type": "code",
   "execution_count": 2,
   "metadata": {},
   "outputs": [
    {
     "data": {
      "text/html": [
       "<div>\n",
       "<style scoped>\n",
       "    .dataframe tbody tr th:only-of-type {\n",
       "        vertical-align: middle;\n",
       "    }\n",
       "\n",
       "    .dataframe tbody tr th {\n",
       "        vertical-align: top;\n",
       "    }\n",
       "\n",
       "    .dataframe thead th {\n",
       "        text-align: right;\n",
       "    }\n",
       "</style>\n",
       "<table border=\"1\" class=\"dataframe\">\n",
       "  <thead>\n",
       "    <tr style=\"text-align: right;\">\n",
       "      <th></th>\n",
       "      <th>h1n1_worry</th>\n",
       "      <th>h1n1_awareness</th>\n",
       "      <th>antiviral_medication</th>\n",
       "      <th>contact_avoidance</th>\n",
       "      <th>bought_face_mask</th>\n",
       "      <th>wash_hands_frequently</th>\n",
       "      <th>avoid_large_gatherings</th>\n",
       "      <th>reduced_outside_home_cont</th>\n",
       "      <th>avoid_touch_face</th>\n",
       "      <th>dr_recc_h1n1_vacc</th>\n",
       "      <th>...</th>\n",
       "      <th>race</th>\n",
       "      <th>sex</th>\n",
       "      <th>income_level</th>\n",
       "      <th>marital_status</th>\n",
       "      <th>housing_status</th>\n",
       "      <th>employment</th>\n",
       "      <th>census_msa</th>\n",
       "      <th>no_of_adults</th>\n",
       "      <th>no_of_children</th>\n",
       "      <th>h1n1_vaccine</th>\n",
       "    </tr>\n",
       "  </thead>\n",
       "  <tbody>\n",
       "    <tr>\n",
       "      <th>0</th>\n",
       "      <td>1.0</td>\n",
       "      <td>0.0</td>\n",
       "      <td>0.0</td>\n",
       "      <td>0.0</td>\n",
       "      <td>0.0</td>\n",
       "      <td>0.0</td>\n",
       "      <td>0.0</td>\n",
       "      <td>1.0</td>\n",
       "      <td>1.0</td>\n",
       "      <td>0.0</td>\n",
       "      <td>...</td>\n",
       "      <td>White</td>\n",
       "      <td>Female</td>\n",
       "      <td>Below Poverty</td>\n",
       "      <td>Not Married</td>\n",
       "      <td>Own</td>\n",
       "      <td>Not in Labor Force</td>\n",
       "      <td>Non-MSA</td>\n",
       "      <td>0.0</td>\n",
       "      <td>0.0</td>\n",
       "      <td>0</td>\n",
       "    </tr>\n",
       "    <tr>\n",
       "      <th>1</th>\n",
       "      <td>3.0</td>\n",
       "      <td>2.0</td>\n",
       "      <td>0.0</td>\n",
       "      <td>1.0</td>\n",
       "      <td>0.0</td>\n",
       "      <td>1.0</td>\n",
       "      <td>0.0</td>\n",
       "      <td>1.0</td>\n",
       "      <td>1.0</td>\n",
       "      <td>0.0</td>\n",
       "      <td>...</td>\n",
       "      <td>White</td>\n",
       "      <td>Male</td>\n",
       "      <td>Below Poverty</td>\n",
       "      <td>Not Married</td>\n",
       "      <td>Rent</td>\n",
       "      <td>Employed</td>\n",
       "      <td>MSA, Not Principle  City</td>\n",
       "      <td>0.0</td>\n",
       "      <td>0.0</td>\n",
       "      <td>0</td>\n",
       "    </tr>\n",
       "    <tr>\n",
       "      <th>2</th>\n",
       "      <td>1.0</td>\n",
       "      <td>1.0</td>\n",
       "      <td>0.0</td>\n",
       "      <td>1.0</td>\n",
       "      <td>0.0</td>\n",
       "      <td>0.0</td>\n",
       "      <td>0.0</td>\n",
       "      <td>0.0</td>\n",
       "      <td>0.0</td>\n",
       "      <td>NaN</td>\n",
       "      <td>...</td>\n",
       "      <td>White</td>\n",
       "      <td>Male</td>\n",
       "      <td>&lt;= $75,000, Above Poverty</td>\n",
       "      <td>Not Married</td>\n",
       "      <td>Own</td>\n",
       "      <td>Employed</td>\n",
       "      <td>MSA, Not Principle  City</td>\n",
       "      <td>2.0</td>\n",
       "      <td>0.0</td>\n",
       "      <td>0</td>\n",
       "    </tr>\n",
       "    <tr>\n",
       "      <th>3</th>\n",
       "      <td>1.0</td>\n",
       "      <td>1.0</td>\n",
       "      <td>0.0</td>\n",
       "      <td>1.0</td>\n",
       "      <td>0.0</td>\n",
       "      <td>1.0</td>\n",
       "      <td>1.0</td>\n",
       "      <td>0.0</td>\n",
       "      <td>0.0</td>\n",
       "      <td>0.0</td>\n",
       "      <td>...</td>\n",
       "      <td>White</td>\n",
       "      <td>Female</td>\n",
       "      <td>Below Poverty</td>\n",
       "      <td>Not Married</td>\n",
       "      <td>Rent</td>\n",
       "      <td>Not in Labor Force</td>\n",
       "      <td>MSA, Principle City</td>\n",
       "      <td>0.0</td>\n",
       "      <td>0.0</td>\n",
       "      <td>0</td>\n",
       "    </tr>\n",
       "    <tr>\n",
       "      <th>4</th>\n",
       "      <td>2.0</td>\n",
       "      <td>1.0</td>\n",
       "      <td>0.0</td>\n",
       "      <td>1.0</td>\n",
       "      <td>0.0</td>\n",
       "      <td>1.0</td>\n",
       "      <td>1.0</td>\n",
       "      <td>0.0</td>\n",
       "      <td>1.0</td>\n",
       "      <td>0.0</td>\n",
       "      <td>...</td>\n",
       "      <td>White</td>\n",
       "      <td>Female</td>\n",
       "      <td>&lt;= $75,000, Above Poverty</td>\n",
       "      <td>Married</td>\n",
       "      <td>Own</td>\n",
       "      <td>Employed</td>\n",
       "      <td>MSA, Not Principle  City</td>\n",
       "      <td>1.0</td>\n",
       "      <td>0.0</td>\n",
       "      <td>0</td>\n",
       "    </tr>\n",
       "  </tbody>\n",
       "</table>\n",
       "<p>5 rows × 33 columns</p>\n",
       "</div>"
      ],
      "text/plain": [
       "   h1n1_worry  h1n1_awareness  antiviral_medication  contact_avoidance  \\\n",
       "0         1.0             0.0                   0.0                0.0   \n",
       "1         3.0             2.0                   0.0                1.0   \n",
       "2         1.0             1.0                   0.0                1.0   \n",
       "3         1.0             1.0                   0.0                1.0   \n",
       "4         2.0             1.0                   0.0                1.0   \n",
       "\n",
       "   bought_face_mask  wash_hands_frequently  avoid_large_gatherings  \\\n",
       "0               0.0                    0.0                     0.0   \n",
       "1               0.0                    1.0                     0.0   \n",
       "2               0.0                    0.0                     0.0   \n",
       "3               0.0                    1.0                     1.0   \n",
       "4               0.0                    1.0                     1.0   \n",
       "\n",
       "   reduced_outside_home_cont  avoid_touch_face  dr_recc_h1n1_vacc  ...   race  \\\n",
       "0                        1.0               1.0                0.0  ...  White   \n",
       "1                        1.0               1.0                0.0  ...  White   \n",
       "2                        0.0               0.0                NaN  ...  White   \n",
       "3                        0.0               0.0                0.0  ...  White   \n",
       "4                        0.0               1.0                0.0  ...  White   \n",
       "\n",
       "      sex               income_level  marital_status  housing_status  \\\n",
       "0  Female              Below Poverty     Not Married             Own   \n",
       "1    Male              Below Poverty     Not Married            Rent   \n",
       "2    Male  <= $75,000, Above Poverty     Not Married             Own   \n",
       "3  Female              Below Poverty     Not Married            Rent   \n",
       "4  Female  <= $75,000, Above Poverty         Married             Own   \n",
       "\n",
       "           employment                census_msa  no_of_adults  no_of_children  \\\n",
       "0  Not in Labor Force                   Non-MSA           0.0             0.0   \n",
       "1            Employed  MSA, Not Principle  City           0.0             0.0   \n",
       "2            Employed  MSA, Not Principle  City           2.0             0.0   \n",
       "3  Not in Labor Force       MSA, Principle City           0.0             0.0   \n",
       "4            Employed  MSA, Not Principle  City           1.0             0.0   \n",
       "\n",
       "   h1n1_vaccine  \n",
       "0             0  \n",
       "1             0  \n",
       "2             0  \n",
       "3             0  \n",
       "4             0  \n",
       "\n",
       "[5 rows x 33 columns]"
      ]
     },
     "execution_count": 2,
     "metadata": {},
     "output_type": "execute_result"
    }
   ],
   "source": [
    "svp  = pd.read_csv(\"h1n1_vaccine_prediction.csv\")\n",
    "svp = svp.drop('unique_id', axis = 1)\n",
    "svp.head()"
   ]
  },
  {
   "cell_type": "code",
   "execution_count": 3,
   "metadata": {},
   "outputs": [
    {
     "data": {
      "text/plain": [
       "(26707, 33)"
      ]
     },
     "execution_count": 3,
     "metadata": {},
     "output_type": "execute_result"
    }
   ],
   "source": [
    "svp.shape"
   ]
  },
  {
   "cell_type": "code",
   "execution_count": 4,
   "metadata": {},
   "outputs": [
    {
     "name": "stdout",
     "output_type": "stream",
     "text": [
      "<class 'pandas.core.frame.DataFrame'>\n",
      "RangeIndex: 26707 entries, 0 to 26706\n",
      "Data columns (total 33 columns):\n",
      " #   Column                     Non-Null Count  Dtype  \n",
      "---  ------                     --------------  -----  \n",
      " 0   h1n1_worry                 26615 non-null  float64\n",
      " 1   h1n1_awareness             26591 non-null  float64\n",
      " 2   antiviral_medication       26636 non-null  float64\n",
      " 3   contact_avoidance          26499 non-null  float64\n",
      " 4   bought_face_mask           26688 non-null  float64\n",
      " 5   wash_hands_frequently      26665 non-null  float64\n",
      " 6   avoid_large_gatherings     26620 non-null  float64\n",
      " 7   reduced_outside_home_cont  26625 non-null  float64\n",
      " 8   avoid_touch_face           26579 non-null  float64\n",
      " 9   dr_recc_h1n1_vacc          24547 non-null  float64\n",
      " 10  dr_recc_seasonal_vacc      24547 non-null  float64\n",
      " 11  chronic_medic_condition    25736 non-null  float64\n",
      " 12  cont_child_undr_6_mnths    25887 non-null  float64\n",
      " 13  is_health_worker           25903 non-null  float64\n",
      " 14  has_health_insur           14433 non-null  float64\n",
      " 15  is_h1n1_vacc_effective     26316 non-null  float64\n",
      " 16  is_h1n1_risky              26319 non-null  float64\n",
      " 17  sick_from_h1n1_vacc        26312 non-null  float64\n",
      " 18  is_seas_vacc_effective     26245 non-null  float64\n",
      " 19  is_seas_risky              26193 non-null  float64\n",
      " 20  sick_from_seas_vacc        26170 non-null  float64\n",
      " 21  age_bracket                26707 non-null  object \n",
      " 22  qualification              25300 non-null  object \n",
      " 23  race                       26707 non-null  object \n",
      " 24  sex                        26707 non-null  object \n",
      " 25  income_level               22284 non-null  object \n",
      " 26  marital_status             25299 non-null  object \n",
      " 27  housing_status             24665 non-null  object \n",
      " 28  employment                 25244 non-null  object \n",
      " 29  census_msa                 26707 non-null  object \n",
      " 30  no_of_adults               26458 non-null  float64\n",
      " 31  no_of_children             26458 non-null  float64\n",
      " 32  h1n1_vaccine               26707 non-null  int64  \n",
      "dtypes: float64(23), int64(1), object(9)\n",
      "memory usage: 6.7+ MB\n"
     ]
    }
   ],
   "source": [
    "svp.info()"
   ]
  },
  {
   "cell_type": "code",
   "execution_count": 5,
   "metadata": {},
   "outputs": [
    {
     "data": {
      "text/plain": [
       "h1n1_worry                      92\n",
       "h1n1_awareness                 116\n",
       "antiviral_medication            71\n",
       "contact_avoidance              208\n",
       "bought_face_mask                19\n",
       "wash_hands_frequently           42\n",
       "avoid_large_gatherings          87\n",
       "reduced_outside_home_cont       82\n",
       "avoid_touch_face               128\n",
       "dr_recc_h1n1_vacc             2160\n",
       "dr_recc_seasonal_vacc         2160\n",
       "chronic_medic_condition        971\n",
       "cont_child_undr_6_mnths        820\n",
       "is_health_worker               804\n",
       "has_health_insur             12274\n",
       "is_h1n1_vacc_effective         391\n",
       "is_h1n1_risky                  388\n",
       "sick_from_h1n1_vacc            395\n",
       "is_seas_vacc_effective         462\n",
       "is_seas_risky                  514\n",
       "sick_from_seas_vacc            537\n",
       "age_bracket                      0\n",
       "qualification                 1407\n",
       "race                             0\n",
       "sex                              0\n",
       "income_level                  4423\n",
       "marital_status                1408\n",
       "housing_status                2042\n",
       "employment                    1463\n",
       "census_msa                       0\n",
       "no_of_adults                   249\n",
       "no_of_children                 249\n",
       "h1n1_vaccine                     0\n",
       "dtype: int64"
      ]
     },
     "execution_count": 5,
     "metadata": {},
     "output_type": "execute_result"
    }
   ],
   "source": [
    "svp.isnull().sum()"
   ]
  },
  {
   "cell_type": "code",
   "execution_count": 6,
   "metadata": {},
   "outputs": [
    {
     "data": {
      "text/plain": [
       "Index(['has_health_insur'], dtype='object')"
      ]
     },
     "execution_count": 6,
     "metadata": {},
     "output_type": "execute_result"
    }
   ],
   "source": [
    "svp.columns[svp.isnull().sum()*100/svp.shape[0]>40]"
   ]
  },
  {
   "cell_type": "code",
   "execution_count": 7,
   "metadata": {},
   "outputs": [
    {
     "data": {
      "text/plain": [
       "1.0    12697\n",
       "0.0     1736\n",
       "Name: has_health_insur, dtype: int64"
      ]
     },
     "execution_count": 7,
     "metadata": {},
     "output_type": "execute_result"
    }
   ],
   "source": [
    "svp.has_health_insur.value_counts()"
   ]
  },
  {
   "cell_type": "code",
   "execution_count": 8,
   "metadata": {},
   "outputs": [
    {
     "data": {
      "text/plain": [
       "0.0    17644\n",
       "1.0     8981\n",
       "Name: reduced_outside_home_cont, dtype: int64"
      ]
     },
     "execution_count": 8,
     "metadata": {},
     "output_type": "execute_result"
    }
   ],
   "source": [
    "#svp.h1n1_worry.value_counts()\n",
    "#svp.h1n1_awareness.value_counts()\n",
    "#svp.antiviral_medication.value_counts()\n",
    "#svp.contact_avoidance.value_counts()\n",
    "#svp.bought_face_mask.value_counts()\n",
    "#svp.wash_hands_frequently.value_counts()\n",
    "#svp.avoid_large_gatherings.value_counts()\n",
    "#svp.avoid_touch_face.value_counts()\n",
    "#svp.dr_recc_h1n1_vacc.value_counts()\n",
    "#svp.dr_recc_seasonal_vacc.value_counts()\n",
    "#svp.chronic_medic_condition.value_counts()\n",
    "#svp.cont_child_undr_6_mnths.value_counts()\n",
    "#svp.is_health_worker.value_counts()\n",
    "#svp.has_health_insur.value_counts()\n",
    "#svp.is_h1n1_vacc_effective.value_counts()\n",
    "#svp.is_h1n1_risky.value_counts()\n",
    "#svp.sick_from_h1n1_vacc.value_counts()\n",
    "#svp.is_seas_vacc_effective.value_counts()\n",
    "#svp.is_seas_risky.value_counts()\n",
    "#svp.sick_from_seas_vacc.value_counts()\n",
    "#svp.qualification.value_counts()\n",
    "#svp.income_level.value_counts()\n",
    "#svp.marital_status.value_counts()\n",
    "#svp.housing_status.value_counts()\n",
    "#svp.employment.value_counts()\n",
    "#svp.no_of_adults.value_counts()\n",
    "#svp.no_of_children.value_counts()\n",
    "svp.reduced_outside_home_cont.value_counts()\n",
    "\n"
   ]
  },
  {
   "cell_type": "code",
   "execution_count": 9,
   "metadata": {},
   "outputs": [],
   "source": [
    "svp.h1n1_worry = svp.h1n1_worry.fillna(0.0)\n",
    "svp.h1n1_awareness = svp.h1n1_awareness.fillna(1.0)\n",
    "svp.antiviral_medication = svp.antiviral_medication.fillna(0.0)\n",
    "svp.contact_avoidance = svp.contact_avoidance.fillna(1.0)\n",
    "svp.bought_face_mask = svp.bought_face_mask.fillna(0.0)\n",
    "svp.wash_hands_frequently = svp.wash_hands_frequently.fillna(1.0)\n",
    "svp.avoid_large_gatherings = svp.avoid_large_gatherings.fillna(0.0)\n",
    "svp.avoid_touch_face = svp.avoid_touch_face.fillna(1.0)\n",
    "svp.dr_recc_h1n1_vacc = svp.dr_recc_h1n1_vacc.fillna(0.0)\n",
    "svp.dr_recc_seasonal_vacc = svp.dr_recc_seasonal_vacc.fillna(0.0)\n",
    "svp.chronic_medic_condition = svp.chronic_medic_condition.fillna(1.0)\n",
    "svp.cont_child_undr_6_mnths = svp.cont_child_undr_6_mnths.fillna(0.0)\n",
    "svp.is_health_worker = svp.is_health_worker.fillna(0.0)\n",
    "svp.has_health_insur = svp.has_health_insur.fillna(0.0)\n",
    "svp.is_h1n1_vacc_effective = svp.is_h1n1_vacc_effective.fillna(4.0)\n",
    "svp.is_h1n1_risky = svp.is_h1n1_risky.fillna(2.0)\n",
    "svp.sick_from_h1n1_vacc = svp.sick_from_h1n1_vacc.fillna(2.0)\n",
    "svp.is_seas_vacc_effective = svp.is_seas_vacc_effective.fillna(4.0)\n",
    "svp.is_seas_risky = svp.is_seas_risky.fillna(2.0)\n",
    "svp.sick_from_seas_vacc = svp.sick_from_seas_vacc.fillna(1.0)\n",
    "svp.qualification = svp.qualification.fillna('College Graduate')\n",
    "svp.income_level = svp.income_level.fillna('<= $75,000, Above Poverty')\n",
    "svp.marital_status = svp.marital_status.fillna('Married')\n",
    "svp.housing_status = svp.housing_status.fillna('Own')\n",
    "svp.employment = svp.employment.fillna('Employed')\n",
    "svp.no_of_adults = svp.no_of_adults.fillna(1.0)\n",
    "svp.no_of_children = svp.no_of_children.fillna(1.0)\n",
    "svp.reduced_outside_home_cont = svp.reduced_outside_home_cont.fillna(0.0)"
   ]
  },
  {
   "cell_type": "code",
   "execution_count": 10,
   "metadata": {},
   "outputs": [
    {
     "data": {
      "text/plain": [
       "h1n1_worry                   False\n",
       "h1n1_awareness               False\n",
       "antiviral_medication         False\n",
       "contact_avoidance            False\n",
       "bought_face_mask             False\n",
       "wash_hands_frequently        False\n",
       "avoid_large_gatherings       False\n",
       "reduced_outside_home_cont    False\n",
       "avoid_touch_face             False\n",
       "dr_recc_h1n1_vacc            False\n",
       "dr_recc_seasonal_vacc        False\n",
       "chronic_medic_condition      False\n",
       "cont_child_undr_6_mnths      False\n",
       "is_health_worker             False\n",
       "has_health_insur             False\n",
       "is_h1n1_vacc_effective       False\n",
       "is_h1n1_risky                False\n",
       "sick_from_h1n1_vacc          False\n",
       "is_seas_vacc_effective       False\n",
       "is_seas_risky                False\n",
       "sick_from_seas_vacc          False\n",
       "age_bracket                  False\n",
       "qualification                False\n",
       "race                         False\n",
       "sex                          False\n",
       "income_level                 False\n",
       "marital_status               False\n",
       "housing_status               False\n",
       "employment                   False\n",
       "census_msa                   False\n",
       "no_of_adults                 False\n",
       "no_of_children               False\n",
       "h1n1_vaccine                 False\n",
       "dtype: bool"
      ]
     },
     "execution_count": 10,
     "metadata": {},
     "output_type": "execute_result"
    }
   ],
   "source": [
    "svp.isnull().sum() > 0"
   ]
  },
  {
   "cell_type": "code",
   "execution_count": 11,
   "metadata": {},
   "outputs": [],
   "source": [
    "from sklearn.preprocessing import LabelEncoder\n",
    "le = LabelEncoder()"
   ]
  },
  {
   "cell_type": "code",
   "execution_count": 12,
   "metadata": {},
   "outputs": [
    {
     "data": {
      "text/plain": [
       "(26707, 9)"
      ]
     },
     "execution_count": 12,
     "metadata": {},
     "output_type": "execute_result"
    }
   ],
   "source": [
    "svp[svp.select_dtypes(include=['object']).columns].shape"
   ]
  },
  {
   "cell_type": "code",
   "execution_count": 13,
   "metadata": {},
   "outputs": [],
   "source": [
    "svp[svp.select_dtypes(include=['object']).columns] = svp[svp.select_dtypes(include=['object']).columns].apply(le.fit_transform)"
   ]
  },
  {
   "cell_type": "code",
   "execution_count": 14,
   "metadata": {},
   "outputs": [
    {
     "name": "stdout",
     "output_type": "stream",
     "text": [
      "<class 'pandas.core.frame.DataFrame'>\n",
      "RangeIndex: 26707 entries, 0 to 26706\n",
      "Data columns (total 33 columns):\n",
      " #   Column                     Non-Null Count  Dtype  \n",
      "---  ------                     --------------  -----  \n",
      " 0   h1n1_worry                 26707 non-null  float64\n",
      " 1   h1n1_awareness             26707 non-null  float64\n",
      " 2   antiviral_medication       26707 non-null  float64\n",
      " 3   contact_avoidance          26707 non-null  float64\n",
      " 4   bought_face_mask           26707 non-null  float64\n",
      " 5   wash_hands_frequently      26707 non-null  float64\n",
      " 6   avoid_large_gatherings     26707 non-null  float64\n",
      " 7   reduced_outside_home_cont  26707 non-null  float64\n",
      " 8   avoid_touch_face           26707 non-null  float64\n",
      " 9   dr_recc_h1n1_vacc          26707 non-null  float64\n",
      " 10  dr_recc_seasonal_vacc      26707 non-null  float64\n",
      " 11  chronic_medic_condition    26707 non-null  float64\n",
      " 12  cont_child_undr_6_mnths    26707 non-null  float64\n",
      " 13  is_health_worker           26707 non-null  float64\n",
      " 14  has_health_insur           26707 non-null  float64\n",
      " 15  is_h1n1_vacc_effective     26707 non-null  float64\n",
      " 16  is_h1n1_risky              26707 non-null  float64\n",
      " 17  sick_from_h1n1_vacc        26707 non-null  float64\n",
      " 18  is_seas_vacc_effective     26707 non-null  float64\n",
      " 19  is_seas_risky              26707 non-null  float64\n",
      " 20  sick_from_seas_vacc        26707 non-null  float64\n",
      " 21  age_bracket                26707 non-null  int32  \n",
      " 22  qualification              26707 non-null  int32  \n",
      " 23  race                       26707 non-null  int32  \n",
      " 24  sex                        26707 non-null  int32  \n",
      " 25  income_level               26707 non-null  int32  \n",
      " 26  marital_status             26707 non-null  int32  \n",
      " 27  housing_status             26707 non-null  int32  \n",
      " 28  employment                 26707 non-null  int32  \n",
      " 29  census_msa                 26707 non-null  int32  \n",
      " 30  no_of_adults               26707 non-null  float64\n",
      " 31  no_of_children             26707 non-null  float64\n",
      " 32  h1n1_vaccine               26707 non-null  int64  \n",
      "dtypes: float64(23), int32(9), int64(1)\n",
      "memory usage: 5.8 MB\n"
     ]
    }
   ],
   "source": [
    "svp.info()"
   ]
  },
  {
   "cell_type": "code",
   "execution_count": 15,
   "metadata": {},
   "outputs": [],
   "source": [
    "from sklearn.model_selection import train_test_split"
   ]
  },
  {
   "cell_type": "code",
   "execution_count": 16,
   "metadata": {},
   "outputs": [],
   "source": [
    "train, test = train_test_split(svp, test_size = 0.2)"
   ]
  },
  {
   "cell_type": "code",
   "execution_count": 17,
   "metadata": {},
   "outputs": [
    {
     "data": {
      "text/plain": [
       "(21365, 33)"
      ]
     },
     "execution_count": 17,
     "metadata": {},
     "output_type": "execute_result"
    }
   ],
   "source": [
    "train.shape"
   ]
  },
  {
   "cell_type": "code",
   "execution_count": 18,
   "metadata": {},
   "outputs": [],
   "source": [
    "train_x = train.iloc[:,0:-1]\n",
    "train_y = train.iloc[:,-1]\n",
    "test_x  = test.iloc[:, 0:-1]\n",
    "test_y  = test.iloc[:, -1]"
   ]
  },
  {
   "cell_type": "code",
   "execution_count": 19,
   "metadata": {},
   "outputs": [
    {
     "data": {
      "text/html": [
       "<div>\n",
       "<style scoped>\n",
       "    .dataframe tbody tr th:only-of-type {\n",
       "        vertical-align: middle;\n",
       "    }\n",
       "\n",
       "    .dataframe tbody tr th {\n",
       "        vertical-align: top;\n",
       "    }\n",
       "\n",
       "    .dataframe thead th {\n",
       "        text-align: right;\n",
       "    }\n",
       "</style>\n",
       "<table border=\"1\" class=\"dataframe\">\n",
       "  <thead>\n",
       "    <tr style=\"text-align: right;\">\n",
       "      <th></th>\n",
       "      <th>h1n1_worry</th>\n",
       "      <th>h1n1_awareness</th>\n",
       "      <th>antiviral_medication</th>\n",
       "      <th>contact_avoidance</th>\n",
       "      <th>bought_face_mask</th>\n",
       "      <th>wash_hands_frequently</th>\n",
       "      <th>avoid_large_gatherings</th>\n",
       "      <th>reduced_outside_home_cont</th>\n",
       "      <th>avoid_touch_face</th>\n",
       "      <th>dr_recc_h1n1_vacc</th>\n",
       "      <th>...</th>\n",
       "      <th>qualification</th>\n",
       "      <th>race</th>\n",
       "      <th>sex</th>\n",
       "      <th>income_level</th>\n",
       "      <th>marital_status</th>\n",
       "      <th>housing_status</th>\n",
       "      <th>employment</th>\n",
       "      <th>census_msa</th>\n",
       "      <th>no_of_adults</th>\n",
       "      <th>no_of_children</th>\n",
       "    </tr>\n",
       "  </thead>\n",
       "  <tbody>\n",
       "    <tr>\n",
       "      <th>18929</th>\n",
       "      <td>2.0</td>\n",
       "      <td>1.0</td>\n",
       "      <td>0.0</td>\n",
       "      <td>1.0</td>\n",
       "      <td>0.0</td>\n",
       "      <td>1.0</td>\n",
       "      <td>0.0</td>\n",
       "      <td>0.0</td>\n",
       "      <td>1.0</td>\n",
       "      <td>0.0</td>\n",
       "      <td>...</td>\n",
       "      <td>1</td>\n",
       "      <td>3</td>\n",
       "      <td>0</td>\n",
       "      <td>0</td>\n",
       "      <td>1</td>\n",
       "      <td>1</td>\n",
       "      <td>0</td>\n",
       "      <td>1</td>\n",
       "      <td>0.0</td>\n",
       "      <td>2.0</td>\n",
       "    </tr>\n",
       "    <tr>\n",
       "      <th>11492</th>\n",
       "      <td>1.0</td>\n",
       "      <td>0.0</td>\n",
       "      <td>1.0</td>\n",
       "      <td>1.0</td>\n",
       "      <td>1.0</td>\n",
       "      <td>1.0</td>\n",
       "      <td>1.0</td>\n",
       "      <td>1.0</td>\n",
       "      <td>1.0</td>\n",
       "      <td>0.0</td>\n",
       "      <td>...</td>\n",
       "      <td>1</td>\n",
       "      <td>1</td>\n",
       "      <td>1</td>\n",
       "      <td>2</td>\n",
       "      <td>0</td>\n",
       "      <td>1</td>\n",
       "      <td>2</td>\n",
       "      <td>1</td>\n",
       "      <td>0.0</td>\n",
       "      <td>0.0</td>\n",
       "    </tr>\n",
       "    <tr>\n",
       "      <th>14350</th>\n",
       "      <td>3.0</td>\n",
       "      <td>1.0</td>\n",
       "      <td>0.0</td>\n",
       "      <td>1.0</td>\n",
       "      <td>0.0</td>\n",
       "      <td>1.0</td>\n",
       "      <td>1.0</td>\n",
       "      <td>0.0</td>\n",
       "      <td>1.0</td>\n",
       "      <td>0.0</td>\n",
       "      <td>...</td>\n",
       "      <td>0</td>\n",
       "      <td>3</td>\n",
       "      <td>1</td>\n",
       "      <td>0</td>\n",
       "      <td>1</td>\n",
       "      <td>0</td>\n",
       "      <td>1</td>\n",
       "      <td>0</td>\n",
       "      <td>0.0</td>\n",
       "      <td>0.0</td>\n",
       "    </tr>\n",
       "    <tr>\n",
       "      <th>21060</th>\n",
       "      <td>3.0</td>\n",
       "      <td>2.0</td>\n",
       "      <td>0.0</td>\n",
       "      <td>1.0</td>\n",
       "      <td>0.0</td>\n",
       "      <td>1.0</td>\n",
       "      <td>0.0</td>\n",
       "      <td>0.0</td>\n",
       "      <td>1.0</td>\n",
       "      <td>0.0</td>\n",
       "      <td>...</td>\n",
       "      <td>2</td>\n",
       "      <td>3</td>\n",
       "      <td>0</td>\n",
       "      <td>1</td>\n",
       "      <td>1</td>\n",
       "      <td>0</td>\n",
       "      <td>0</td>\n",
       "      <td>0</td>\n",
       "      <td>0.0</td>\n",
       "      <td>0.0</td>\n",
       "    </tr>\n",
       "    <tr>\n",
       "      <th>23195</th>\n",
       "      <td>2.0</td>\n",
       "      <td>2.0</td>\n",
       "      <td>0.0</td>\n",
       "      <td>1.0</td>\n",
       "      <td>0.0</td>\n",
       "      <td>1.0</td>\n",
       "      <td>0.0</td>\n",
       "      <td>0.0</td>\n",
       "      <td>1.0</td>\n",
       "      <td>1.0</td>\n",
       "      <td>...</td>\n",
       "      <td>2</td>\n",
       "      <td>3</td>\n",
       "      <td>1</td>\n",
       "      <td>1</td>\n",
       "      <td>1</td>\n",
       "      <td>1</td>\n",
       "      <td>0</td>\n",
       "      <td>2</td>\n",
       "      <td>0.0</td>\n",
       "      <td>0.0</td>\n",
       "    </tr>\n",
       "  </tbody>\n",
       "</table>\n",
       "<p>5 rows × 32 columns</p>\n",
       "</div>"
      ],
      "text/plain": [
       "       h1n1_worry  h1n1_awareness  antiviral_medication  contact_avoidance  \\\n",
       "18929         2.0             1.0                   0.0                1.0   \n",
       "11492         1.0             0.0                   1.0                1.0   \n",
       "14350         3.0             1.0                   0.0                1.0   \n",
       "21060         3.0             2.0                   0.0                1.0   \n",
       "23195         2.0             2.0                   0.0                1.0   \n",
       "\n",
       "       bought_face_mask  wash_hands_frequently  avoid_large_gatherings  \\\n",
       "18929               0.0                    1.0                     0.0   \n",
       "11492               1.0                    1.0                     1.0   \n",
       "14350               0.0                    1.0                     1.0   \n",
       "21060               0.0                    1.0                     0.0   \n",
       "23195               0.0                    1.0                     0.0   \n",
       "\n",
       "       reduced_outside_home_cont  avoid_touch_face  dr_recc_h1n1_vacc  ...  \\\n",
       "18929                        0.0               1.0                0.0  ...   \n",
       "11492                        1.0               1.0                0.0  ...   \n",
       "14350                        0.0               1.0                0.0  ...   \n",
       "21060                        0.0               1.0                0.0  ...   \n",
       "23195                        0.0               1.0                1.0  ...   \n",
       "\n",
       "       qualification  race  sex  income_level  marital_status  housing_status  \\\n",
       "18929              1     3    0             0               1               1   \n",
       "11492              1     1    1             2               0               1   \n",
       "14350              0     3    1             0               1               0   \n",
       "21060              2     3    0             1               1               0   \n",
       "23195              2     3    1             1               1               1   \n",
       "\n",
       "       employment  census_msa  no_of_adults  no_of_children  \n",
       "18929           0           1           0.0             2.0  \n",
       "11492           2           1           0.0             0.0  \n",
       "14350           1           0           0.0             0.0  \n",
       "21060           0           0           0.0             0.0  \n",
       "23195           0           2           0.0             0.0  \n",
       "\n",
       "[5 rows x 32 columns]"
      ]
     },
     "execution_count": 19,
     "metadata": {},
     "output_type": "execute_result"
    }
   ],
   "source": [
    "train_x.head()"
   ]
  },
  {
   "cell_type": "code",
   "execution_count": 20,
   "metadata": {},
   "outputs": [],
   "source": [
    "from sklearn.tree import DecisionTreeClassifier\n",
    "from sklearn.metrics import confusion_matrix\n",
    "from sklearn.metrics import  accuracy_score\n",
    "from sklearn.metrics import precision_score\n",
    "from sklearn.metrics import roc_auc_score\n",
    "from sklearn.metrics import roc_curve\n",
    "\n",
    "dt = DecisionTreeClassifier()"
   ]
  },
  {
   "cell_type": "code",
   "execution_count": 21,
   "metadata": {},
   "outputs": [
    {
     "data": {
      "text/plain": [
       "DecisionTreeClassifier()"
      ]
     },
     "execution_count": 21,
     "metadata": {},
     "output_type": "execute_result"
    }
   ],
   "source": [
    "dt.fit(train_x, train_y)"
   ]
  },
  {
   "cell_type": "code",
   "execution_count": 22,
   "metadata": {},
   "outputs": [
    {
     "data": {
      "text/plain": [
       "array([0, 1, 0, ..., 0, 1, 0], dtype=int64)"
      ]
     },
     "execution_count": 22,
     "metadata": {},
     "output_type": "execute_result"
    }
   ],
   "source": [
    "pred = dt.predict(test_x)\n",
    "pred"
   ]
  },
  {
   "cell_type": "code",
   "execution_count": 23,
   "metadata": {
    "scrolled": true
   },
   "outputs": [
    {
     "data": {
      "text/plain": [
       "array([[3516,  591],\n",
       "       [ 656,  579]], dtype=int64)"
      ]
     },
     "execution_count": 23,
     "metadata": {},
     "output_type": "execute_result"
    }
   ],
   "source": [
    "tab = confusion_matrix(pred, test_y)\n",
    "tab"
   ]
  },
  {
   "cell_type": "code",
   "execution_count": 24,
   "metadata": {},
   "outputs": [
    {
     "data": {
      "text/plain": [
       "76.65668289030326"
      ]
     },
     "execution_count": 24,
     "metadata": {},
     "output_type": "execute_result"
    }
   ],
   "source": [
    "tab.diagonal().sum()*100 /tab.sum()"
   ]
  },
  {
   "cell_type": "code",
   "execution_count": 25,
   "metadata": {},
   "outputs": [
    {
     "data": {
      "text/plain": [
       "0.7665668289030326"
      ]
     },
     "execution_count": 25,
     "metadata": {},
     "output_type": "execute_result"
    }
   ],
   "source": [
    "accuracy_score(pred, test_y)"
   ]
  },
  {
   "cell_type": "code",
   "execution_count": 26,
   "metadata": {},
   "outputs": [
    {
     "data": {
      "text/plain": [
       "0.4688259109311741"
      ]
     },
     "execution_count": 26,
     "metadata": {},
     "output_type": "execute_result"
    }
   ],
   "source": [
    "precision_score(test_y, pred)"
   ]
  },
  {
   "cell_type": "code",
   "execution_count": 27,
   "metadata": {},
   "outputs": [
    {
     "data": {
      "text/plain": [
       "0.6688165302259264"
      ]
     },
     "execution_count": 27,
     "metadata": {},
     "output_type": "execute_result"
    }
   ],
   "source": [
    "roc_auc_score(test_y, pred)"
   ]
  },
  {
   "cell_type": "code",
   "execution_count": 28,
   "metadata": {},
   "outputs": [
    {
     "data": {
      "text/plain": [
       "array([0., 1., 0., ..., 0., 1., 0.])"
      ]
     },
     "execution_count": 28,
     "metadata": {},
     "output_type": "execute_result"
    }
   ],
   "source": [
    "pred_prob = dt.predict_proba(test_x)\n",
    "pred_prob[:,1]"
   ]
  },
  {
   "cell_type": "code",
   "execution_count": 29,
   "metadata": {},
   "outputs": [],
   "source": [
    "fpr , tpr, treshold = roc_curve(test_y, pred_prob[:,1])"
   ]
  },
  {
   "cell_type": "code",
   "execution_count": 30,
   "metadata": {},
   "outputs": [
    {
     "data": {
      "image/png": "[encoded data removed]",
      "text/plain": [
       "<Figure size 432x288 with 1 Axes>"
      ]
     },
     "metadata": {
      "needs_background": "light"
     },
     "output_type": "display_data"
    }
   ],
   "source": [
    "plt.plot(fpr, tpr)\n",
    "plt.xlabel(\"fpr\", size = 20)\n",
    "plt.ylabel(\"tpr\", size = 20)\n",
    "plt.title(\"Auc_roc curve on swineflew vaccine\", size = 20)\n",
    "plt.grid()"
   ]
  },
  {
   "cell_type": "code",
   "execution_count": 31,
   "metadata": {},
   "outputs": [
    {
     "name": "stdout",
     "output_type": "stream",
     "text": [
      "(25869, 33)\n",
      "confusion_matrix [[3580  613]\n",
      " [ 592  557]]\n",
      "accuracy_score 0.7744290527892175\n",
      "precision_score 0.48476936466492604\n"
     ]
    }
   ],
   "source": [
    "#manual oversampling\n",
    "df1 = train[train.h1n1_vaccine == 1]\n",
    "\n",
    "train = pd.concat([train, df1])\n",
    "print(train.shape)\n",
    "train_x = train.iloc[:, 0:-1]\n",
    "train_y = train.iloc[:, -1]\n",
    "test_x  = test.iloc[:, 0:-1]\n",
    "test_y  = test.iloc[:, -1]\n",
    "\n",
    "dt.fit(train_x, train_y)\n",
    "\n",
    "pred = dt.predict(test_x)\n",
    "\n",
    "print('confusion_matrix',confusion_matrix(pred, test_y))\n",
    "\n",
    "print('accuracy_score', accuracy_score(test_y, pred))\n",
    "\n",
    "print('precision_score',precision_score(test_y, pred))"
   ]
  },
  {
   "cell_type": "code",
   "execution_count": 32,
   "metadata": {},
   "outputs": [
    {
     "name": "stdout",
     "output_type": "stream",
     "text": [
      "confusion_matrix [[3578  614]\n",
      " [ 594  556]]\n",
      "accuracy_score 0.7738674653687757\n",
      "precision_score 0.4834782608695652\n"
     ]
    }
   ],
   "source": [
    "# automatic oversampling\n",
    "dt = DecisionTreeClassifier(class_weight='balanced')\n",
    "dt.fit(train_x, train_y)\n",
    "\n",
    "pred = dt.predict(test_x)\n",
    "\n",
    "print('confusion_matrix', confusion_matrix(pred, test_y))\n",
    "print('accuracy_score', accuracy_score(pred, test_y))\n",
    "print('precision_score', precision_score(test_y, pred))"
   ]
  },
  {
   "cell_type": "code",
   "execution_count": 33,
   "metadata": {},
   "outputs": [
    {
     "data": {
      "text/html": [
       "<div>\n",
       "<style scoped>\n",
       "    .dataframe tbody tr th:only-of-type {\n",
       "        vertical-align: middle;\n",
       "    }\n",
       "\n",
       "    .dataframe tbody tr th {\n",
       "        vertical-align: top;\n",
       "    }\n",
       "\n",
       "    .dataframe thead th {\n",
       "        text-align: right;\n",
       "    }\n",
       "</style>\n",
       "<table border=\"1\" class=\"dataframe\">\n",
       "  <thead>\n",
       "    <tr style=\"text-align: right;\">\n",
       "      <th></th>\n",
       "      <th>feature</th>\n",
       "      <th>importance</th>\n",
       "    </tr>\n",
       "  </thead>\n",
       "  <tbody>\n",
       "    <tr>\n",
       "      <th>0</th>\n",
       "      <td>h1n1_worry</td>\n",
       "      <td>0.036126</td>\n",
       "    </tr>\n",
       "    <tr>\n",
       "      <th>1</th>\n",
       "      <td>h1n1_awareness</td>\n",
       "      <td>0.027452</td>\n",
       "    </tr>\n",
       "    <tr>\n",
       "      <th>2</th>\n",
       "      <td>antiviral_medication</td>\n",
       "      <td>0.006297</td>\n",
       "    </tr>\n",
       "    <tr>\n",
       "      <th>3</th>\n",
       "      <td>contact_avoidance</td>\n",
       "      <td>0.015447</td>\n",
       "    </tr>\n",
       "    <tr>\n",
       "      <th>4</th>\n",
       "      <td>bought_face_mask</td>\n",
       "      <td>0.009458</td>\n",
       "    </tr>\n",
       "    <tr>\n",
       "      <th>5</th>\n",
       "      <td>wash_hands_frequently</td>\n",
       "      <td>0.010689</td>\n",
       "    </tr>\n",
       "    <tr>\n",
       "      <th>6</th>\n",
       "      <td>avoid_large_gatherings</td>\n",
       "      <td>0.017595</td>\n",
       "    </tr>\n",
       "    <tr>\n",
       "      <th>7</th>\n",
       "      <td>reduced_outside_home_cont</td>\n",
       "      <td>0.014120</td>\n",
       "    </tr>\n",
       "    <tr>\n",
       "      <th>8</th>\n",
       "      <td>avoid_touch_face</td>\n",
       "      <td>0.016694</td>\n",
       "    </tr>\n",
       "    <tr>\n",
       "      <th>9</th>\n",
       "      <td>dr_recc_h1n1_vacc</td>\n",
       "      <td>0.178307</td>\n",
       "    </tr>\n",
       "    <tr>\n",
       "      <th>10</th>\n",
       "      <td>dr_recc_seasonal_vacc</td>\n",
       "      <td>0.019113</td>\n",
       "    </tr>\n",
       "    <tr>\n",
       "      <th>11</th>\n",
       "      <td>chronic_medic_condition</td>\n",
       "      <td>0.018417</td>\n",
       "    </tr>\n",
       "    <tr>\n",
       "      <th>12</th>\n",
       "      <td>cont_child_undr_6_mnths</td>\n",
       "      <td>0.006690</td>\n",
       "    </tr>\n",
       "    <tr>\n",
       "      <th>13</th>\n",
       "      <td>is_health_worker</td>\n",
       "      <td>0.021321</td>\n",
       "    </tr>\n",
       "    <tr>\n",
       "      <th>14</th>\n",
       "      <td>has_health_insur</td>\n",
       "      <td>0.063079</td>\n",
       "    </tr>\n",
       "    <tr>\n",
       "      <th>15</th>\n",
       "      <td>is_h1n1_vacc_effective</td>\n",
       "      <td>0.052652</td>\n",
       "    </tr>\n",
       "    <tr>\n",
       "      <th>16</th>\n",
       "      <td>is_h1n1_risky</td>\n",
       "      <td>0.085986</td>\n",
       "    </tr>\n",
       "    <tr>\n",
       "      <th>17</th>\n",
       "      <td>sick_from_h1n1_vacc</td>\n",
       "      <td>0.035743</td>\n",
       "    </tr>\n",
       "    <tr>\n",
       "      <th>18</th>\n",
       "      <td>is_seas_vacc_effective</td>\n",
       "      <td>0.033484</td>\n",
       "    </tr>\n",
       "    <tr>\n",
       "      <th>19</th>\n",
       "      <td>is_seas_risky</td>\n",
       "      <td>0.033769</td>\n",
       "    </tr>\n",
       "    <tr>\n",
       "      <th>20</th>\n",
       "      <td>sick_from_seas_vacc</td>\n",
       "      <td>0.031506</td>\n",
       "    </tr>\n",
       "    <tr>\n",
       "      <th>21</th>\n",
       "      <td>age_bracket</td>\n",
       "      <td>0.042974</td>\n",
       "    </tr>\n",
       "    <tr>\n",
       "      <th>22</th>\n",
       "      <td>qualification</td>\n",
       "      <td>0.034261</td>\n",
       "    </tr>\n",
       "    <tr>\n",
       "      <th>23</th>\n",
       "      <td>race</td>\n",
       "      <td>0.023613</td>\n",
       "    </tr>\n",
       "    <tr>\n",
       "      <th>24</th>\n",
       "      <td>sex</td>\n",
       "      <td>0.013357</td>\n",
       "    </tr>\n",
       "    <tr>\n",
       "      <th>25</th>\n",
       "      <td>income_level</td>\n",
       "      <td>0.022039</td>\n",
       "    </tr>\n",
       "    <tr>\n",
       "      <th>26</th>\n",
       "      <td>marital_status</td>\n",
       "      <td>0.014019</td>\n",
       "    </tr>\n",
       "    <tr>\n",
       "      <th>27</th>\n",
       "      <td>housing_status</td>\n",
       "      <td>0.011499</td>\n",
       "    </tr>\n",
       "    <tr>\n",
       "      <th>28</th>\n",
       "      <td>employment</td>\n",
       "      <td>0.019079</td>\n",
       "    </tr>\n",
       "    <tr>\n",
       "      <th>29</th>\n",
       "      <td>census_msa</td>\n",
       "      <td>0.029653</td>\n",
       "    </tr>\n",
       "    <tr>\n",
       "      <th>30</th>\n",
       "      <td>no_of_adults</td>\n",
       "      <td>0.029197</td>\n",
       "    </tr>\n",
       "    <tr>\n",
       "      <th>31</th>\n",
       "      <td>no_of_children</td>\n",
       "      <td>0.026364</td>\n",
       "    </tr>\n",
       "  </tbody>\n",
       "</table>\n",
       "</div>"
      ],
      "text/plain": [
       "                      feature  importance\n",
       "0                  h1n1_worry    0.036126\n",
       "1              h1n1_awareness    0.027452\n",
       "2        antiviral_medication    0.006297\n",
       "3           contact_avoidance    0.015447\n",
       "4            bought_face_mask    0.009458\n",
       "5       wash_hands_frequently    0.010689\n",
       "6      avoid_large_gatherings    0.017595\n",
       "7   reduced_outside_home_cont    0.014120\n",
       "8            avoid_touch_face    0.016694\n",
       "9           dr_recc_h1n1_vacc    0.178307\n",
       "10      dr_recc_seasonal_vacc    0.019113\n",
       "11    chronic_medic_condition    0.018417\n",
       "12    cont_child_undr_6_mnths    0.006690\n",
       "13           is_health_worker    0.021321\n",
       "14           has_health_insur    0.063079\n",
       "15     is_h1n1_vacc_effective    0.052652\n",
       "16              is_h1n1_risky    0.085986\n",
       "17        sick_from_h1n1_vacc    0.035743\n",
       "18     is_seas_vacc_effective    0.033484\n",
       "19              is_seas_risky    0.033769\n",
       "20        sick_from_seas_vacc    0.031506\n",
       "21                age_bracket    0.042974\n",
       "22              qualification    0.034261\n",
       "23                       race    0.023613\n",
       "24                        sex    0.013357\n",
       "25               income_level    0.022039\n",
       "26             marital_status    0.014019\n",
       "27             housing_status    0.011499\n",
       "28                 employment    0.019079\n",
       "29                 census_msa    0.029653\n",
       "30               no_of_adults    0.029197\n",
       "31             no_of_children    0.026364"
      ]
     },
     "execution_count": 33,
     "metadata": {},
     "output_type": "execute_result"
    }
   ],
   "source": [
    "feature_importace = pd.DataFrame({'feature': train_x.columns, 'importance': dt.feature_importances_})\n",
    "feature_importace"
   ]
  },
  {
   "cell_type": "code",
   "execution_count": null,
   "metadata": {},
   "outputs": [],
   "source": []
  }
 ],
 "metadata": {
  "kernelspec": {
   "display_name": "Python 3",
   "language": "python",
   "name": "python3"
  },
  "language_info": {
   "codemirror_mode": {
    "name": "ipython",
    "version": 3
   },
   "file_extension": ".py",
   "mimetype": "text/x-python",
   "name": "python",
   "nbconvert_exporter": "python",
   "pygments_lexer": "ipython3",
   "version": "3.8.5"
  }
 },
 "nbformat": 4,
 "nbformat_minor": 4
}
